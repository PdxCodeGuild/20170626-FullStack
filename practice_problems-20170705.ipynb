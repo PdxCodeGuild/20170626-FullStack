{
 "cells": [
  {
   "cell_type": "code",
   "execution_count": 1,
   "metadata": {},
   "outputs": [
    {
     "name": "stdout",
     "output_type": "stream",
     "text": [
      "1\n",
      "2\n",
      "4\n",
      "8\n",
      "16\n",
      "32\n",
      "64\n",
      "128\n",
      "256\n",
      "512\n",
      "1024\n",
      "2048\n",
      "4096\n",
      "8192\n",
      "16384\n",
      "32768\n",
      "65536\n",
      "131072\n",
      "262144\n",
      "524288\n",
      "1048576\n"
     ]
    }
   ],
   "source": [
    "for i in range(21):\n",
    "    print(2 ** i)"
   ]
  },
  {
   "cell_type": "code",
   "execution_count": 2,
   "metadata": {},
   "outputs": [
    {
     "name": "stdout",
     "output_type": "stream",
     "text": [
      "2\n"
     ]
    }
   ],
   "source": [
    "# v1 find the minimum value\n",
    "nums = [45, 67, 124, 2, 9]\n",
    "print(min(nums))\n"
   ]
  },
  {
   "cell_type": "code",
   "execution_count": 3,
   "metadata": {},
   "outputs": [
    {
     "name": "stdout",
     "output_type": "stream",
     "text": [
      "2\n"
     ]
    }
   ],
   "source": [
    "def find_min_v2(nums):\n",
    "    min_num = nums[0]\n",
    "    for num in nums:\n",
    "        if min_num > num:\n",
    "            min_num = num\n",
    "    return min_num\n",
    "nums = [45, 67, 124, 2, 9]\n",
    "print(find_min_v2(nums))\n",
    "    "
   ]
  },
  {
   "cell_type": "code",
   "execution_count": 4,
   "metadata": {},
   "outputs": [
    {
     "name": "stdout",
     "output_type": "stream",
     "text": [
      "2\n"
     ]
    }
   ],
   "source": [
    "def find_min_v3(nums):\n",
    "    try:\n",
    "        min_num = nums[0]\n",
    "        for num in nums:\n",
    "            if num < min_num:\n",
    "                min_num = num\n",
    "        return min_num\n",
    "    except IndexError:\n",
    "        return None\n",
    "nums = [45, 67, 124, 2, 9]\n",
    "print(find_min_v3(nums))"
   ]
  },
  {
   "cell_type": "code",
   "execution_count": 5,
   "metadata": {},
   "outputs": [
    {
     "name": "stdout",
     "output_type": "stream",
     "text": [
      "2\n"
     ]
    }
   ],
   "source": [
    "def find_min_v4(nums):\n",
    "    min_num = None\n",
    "    for num in nums:\n",
    "        if min_num is None:\n",
    "            min_num = num\n",
    "        elif num < min_num:\n",
    "            min_num = num\n",
    "    return min_num\n",
    "nums = [45, 67, 124, 2, 9]\n",
    "print(find_min_v4(nums))"
   ]
  },
  {
   "cell_type": "code",
   "execution_count": 6,
   "metadata": {},
   "outputs": [
    {
     "name": "stdout",
     "output_type": "stream",
     "text": [
      "['watermelon', 'banana']\n"
     ]
    }
   ],
   "source": [
    "# find all the common elements between two lists\n",
    "def find_common_elements(list1, list2):\n",
    "    common_elements = []\n",
    "    for i in range(len(list1)):\n",
    "        elem1 = list1[i]\n",
    "        for j in range(len(list2)):\n",
    "            elem2 = list2[j]\n",
    "            if elem1 == elem2:\n",
    "                common_elements.append(elem1)\n",
    "    return common_elements\n",
    "fruits1 = ['rasberry', 'watermelon', 'blackberry', 'banana']\n",
    "fruits2 = ['banana', 'watermelon','dragonfruit']\n",
    "common_elements = find_common_elements(fruits1, fruits2)\n",
    "print(common_elements)"
   ]
  },
  {
   "cell_type": "code",
   "execution_count": 7,
   "metadata": {},
   "outputs": [
    {
     "name": "stdout",
     "output_type": "stream",
     "text": [
      "[7, 8, 4, 7]\n"
     ]
    }
   ],
   "source": [
    "# return all elements in a list with value < 10\n",
    "def less_than_10(k):\n",
    "    r = []\n",
    "    for e in k:\n",
    "        if e < 10:\n",
    "            r.append(e)\n",
    "    return r\n",
    "k = [7, 8, 11, 4, 54, 23, 7]\n",
    "r = less_than_10(k)\n",
    "print(r)"
   ]
  },
  {
   "cell_type": "code",
   "execution_count": 8,
   "metadata": {},
   "outputs": [
    {
     "name": "stdout",
     "output_type": "stream",
     "text": [
      "['a', 1, 'b', 2, 'c', 3, 'd', 4]\n"
     ]
    }
   ],
   "source": [
    "# v1 assuming the two are the same size\n",
    "def merge_lists(list1, list2):\n",
    "    r = []\n",
    "    for i in range(len(list1)):\n",
    "        elem1 = list1[i]\n",
    "        elem2 = list2[i]\n",
    "        r.append(elem1)\n",
    "        r.append(elem2)\n",
    "    return r\n",
    "list1 = ['a', 'b', 'c', 'd']\n",
    "list2 = [1, 2, 3, 4]\n",
    "merged_list = merge_lists(list1, list2)\n",
    "print(merged_list)\n"
   ]
  },
  {
   "cell_type": "code",
   "execution_count": 9,
   "metadata": {},
   "outputs": [
    {
     "name": "stdout",
     "output_type": "stream",
     "text": [
      "['a', 1, 'b', 2, 'c', 3, 'd', 4]\n"
     ]
    }
   ],
   "source": [
    "# v2 throw away excess elements\n",
    "def merge_lists(list1, list2):\n",
    "    r = []\n",
    "    min_len = min(len(list1), len(list2))\n",
    "    for i in range(min_len):\n",
    "        elem1 = list1[i]\n",
    "        elem2 = list2[i]\n",
    "        r.append(elem1)\n",
    "        r.append(elem2)\n",
    "    return r\n",
    "list1 = ['a', 'b', 'c', 'd', 'e', 'f', 'g']\n",
    "list2 = [1, 2, 3, 4]\n",
    "merged_list = merge_lists(list1, list2)\n",
    "print(merged_list)"
   ]
  },
  {
   "cell_type": "code",
   "execution_count": 10,
   "metadata": {},
   "outputs": [
    {
     "name": "stdout",
     "output_type": "stream",
     "text": [
      "[1, 'a', 2, 'b', 3, 'c', 4, 'd', 'e', 'f', 'g']\n"
     ]
    }
   ],
   "source": [
    "# v3, append extra elements to the end of the list\n",
    "def merge_lists(list1, list2):\n",
    "    if len(list1) > len(list2): # ensure list1 is the smaller one\n",
    "        list1, list2 = list2, list1 #swap the lists if that isn't the case\n",
    "    r = []\n",
    "    for i in range(len(list1)):\n",
    "        elem1 = list1[i]\n",
    "        elem2 = list2[i]\n",
    "        r.append(elem1)\n",
    "        r.append(elem2)\n",
    "    for i in range(len(list1), len(list2)):\n",
    "        r.append(list2[i])\n",
    "    return r\n",
    "list1 = ['a', 'b', 'c', 'd', 'e', 'f', 'g']\n",
    "list2 = [1, 2, 3, 4]\n",
    "merged_list = merge_lists(list1, list2)\n",
    "print(merged_list)"
   ]
  }
 ],
 "metadata": {
  "kernelspec": {
   "display_name": "Python 3",
   "language": "python",
   "name": "python3"
  },
  "language_info": {
   "codemirror_mode": {
    "name": "ipython",
    "version": 3
   },
   "file_extension": ".py",
   "mimetype": "text/x-python",
   "name": "python",
   "nbconvert_exporter": "python",
   "pygments_lexer": "ipython3",
   "version": "3.6.0"
  }
 },
 "nbformat": 4,
 "nbformat_minor": 2
}
